{
 "cells": [
  {
   "cell_type": "markdown",
   "metadata": {},
   "source": [
    "# Predictive Analytics\n",
    "\n",
    "Items Purchased together using Association Rules (Market Basket Analysis)\n",
    "\n",
    "## Oracle AutoML notebook - best run in Zeppelin using Oracle OCI AUTOML"
   ]
  },
  {
   "cell_type": "code",
   "execution_count": null,
   "metadata": {},
   "outputs": [],
   "source": [
    "%python\n",
    "\n",
    "import oml\n",
    "import pandas as pd\n",
    "\n",
    "pd.set_option('display.max_rows', 500)\n",
    "pd.set_option('display.max_columns', 500)\n",
    "pd.set_option('display.width', 1000)"
   ]
  },
  {
   "cell_type": "code",
   "execution_count": null,
   "metadata": {},
   "outputs": [],
   "source": [
    "%python\n",
    "\n",
    "PRODUCT_DF = oml.sync(query = 'SELECT PROD_ID, PROD_NAME, PROD_CATEGORY FROM SH.PRODUCTS')\n",
    "z.show(PRODUCT_DF.head())"
   ]
  },
  {
   "cell_type": "code",
   "execution_count": null,
   "metadata": {},
   "outputs": [],
   "source": [
    "%python\n",
    "\n",
    "SALES_TRANS_CUST = PRODUCT_DF.merge(SALES_DF[(SALES_DF['CUST_ID'] >= 100001) & (SALES_DF['CUST_ID'] <= 104500)], \n",
    "                                    how = \"inner\", on = 'PROD_ID', suffixes = [\"\", \"\"])\n",
    "SALES_TRANS_CUST = SALES_TRANS_CUST[['CUST_ID', 'PROD_NAME', 'PROD_CATEGORY']].drop_duplicates()"
   ]
  },
  {
   "cell_type": "code",
   "execution_count": null,
   "metadata": {},
   "outputs": [],
   "source": [
    "%python\n",
    "\n",
    "setting = {'ASSO_MIN_SUPPORT':'0.04', \n",
    "           'ASSO_MIN_CONFIDENCE':'0.1', \n",
    "           'ASSO_MAX_RULE_LENGTH': '2', \n",
    "           'ODMS_ITEM_ID_COLUMN_NAME':'PROD_NAME'}\n",
    "\n",
    "ar_mod = oml.ar(**setting)\n",
    "ar_mod = ar_mod.fit(SALES_TRANS_CUST, case_id = 'CUST_ID')"
   ]
  },
  {
   "cell_type": "code",
   "execution_count": null,
   "metadata": {},
   "outputs": [],
   "source": [
    "%python\n",
    "\n",
    "z.show(ar_mod.itemsets.sort_values(['NUMBER_OF_ITEMS','SUPPORT'], ascending = False).head(10))"
   ]
  },
  {
   "cell_type": "code",
   "execution_count": null,
   "metadata": {},
   "outputs": [],
   "source": [
    "%python\n",
    "\n",
    "z.show(ar_mod.itemsets.sort_values(['NUMBER_OF_ITEMS','SUPPORT'], ascending = False).head(10))"
   ]
  },
  {
   "cell_type": "code",
   "execution_count": null,
   "metadata": {},
   "outputs": [],
   "source": [
    "%python\n",
    "\n",
    "z.show(ar_mod.rules[ar_mod.rules['LHS_NAME'] == 'Standard Mouse'].sort_values(['CONFIDENCE'], ascending = False).head(10))"
   ]
  },
  {
   "cell_type": "markdown",
   "metadata": {},
   "source": [
    "RULE_ID\tNUMBER_OF_ITEMS\tLHS_NAME\tLHS_VALUE\tRHS_NAME\tRHS_VALUE\tSUPPORT\tCONFIDENCE\tREVCONFIDENCE\tLIFT\n",
    "91\t2\tStandard Mouse\tNone\tMouse Pad\tNone\t0.184042553\t0.572847682\t0.570957096\t1.777151225\n",
    "53\t2\tStandard Mouse\tNone\tExtension Cable\tNone\t0.180851064\t0.562913907\t0.580204778\t1.805935402\n",
    "19\t2\tStandard Mouse\tNone\t18\" Flat Panel Graphics Monitor\tNone\t0.095744681\t0.298013245\t0.308219178\t0.959357707\n",
    "103\t2\tStandard Mouse\tNone\tSIMM- 16MB PCMCIAII card\tNone\t0.091489362\t0.284768212\t0.287625418\t0.895257924\n",
    "83\t2\tStandard Mouse\tNone\tModel SM26273 Black Ink Cartridge\tNone\t0.079787234\t0.248344371\t0.367647059\t1.144331905\n",
    "67\t2\tStandard Mouse\tNone\tExternal 8X CD-ROM\tNone\t0.075531915\t0.235099338\t0.24738676\t0.770011768\n",
    "37\t2\tStandard Mouse\tNone\tCD-RW, High Speed Pack of 5\tNone\t0.070212766\t0.218543046\t0.24\t0.747019868\n",
    "97\t2\tStandard Mouse\tNone\tMultimedia speakers- 3\" cones\tNone\t0.057446809\t0.178807947\t0.293478261\t0.913475382\n",
    "101\t2\tStandard Mouse\tNone\tO/S Documentation Set - English\tNone\t0.055319149\t0.17218543\t0.284153005\t0.884449752\n",
    "73\t2\tStandard Mouse\tNone\tKeyboard Wrist Rest\tNone\t0.054255319\t0.168874172\t0.288135593\t0.896845886\n"
   ]
  },
  {
   "cell_type": "markdown",
   "metadata": {},
   "source": [
    "#"
   ]
  },
  {
   "cell_type": "markdown",
   "metadata": {},
   "source": [
    "## Anomaly Detection\n",
    "\n",
    "## Oracle AutoML notebook - best run in Zeppelin using Oracle OCI AUTOML"
   ]
  },
  {
   "cell_type": "code",
   "execution_count": null,
   "metadata": {},
   "outputs": [],
   "source": [
    "%python\n",
    "\n",
    "import pandas as pd\n",
    "import oml\n",
    "\n",
    "pd.set_option('display.max_rows', 500)\n",
    "pd.set_option('display.max_columns', 500)\n",
    "pd.set_option('display.width', 1000)"
   ]
  },
  {
   "cell_type": "code",
   "execution_count": null,
   "metadata": {},
   "outputs": [],
   "source": [
    "%python\n",
    "\n",
    "\n",
    "CUSTOMERS = oml.sync(query = 'SELECT CUST_ID, CUST_GENDER, CUST_MARITAL_STATUS, CUST_YEAR_OF_BIRTH, CUST_INCOME_LEVEL, CUST_CREDIT_LIMIT FROM SH.CUSTOMERS')\n",
    "SUPP_DEM = oml.sync(query = \"\"\"SELECT CUST_ID, EDUCATION, AFFINITY_CARD, HOUSEHOLD_SIZE, OCCUPATION, YRS_RESIDENCE, Y_BOX_GAMES FROM SH.SUPPLEMENTARY_DEMOGRAPHICS\"\"\")\n",
    " \n"
   ]
  },
  {
   "cell_type": "code",
   "execution_count": null,
   "metadata": {},
   "outputs": [],
   "source": [
    "%python\n",
    "\n",
    "CUST_DF = CUSTOMERS.merge(SUPP_DEM, how = \"inner\", on = 'CUST_ID',suffixes = [\"\",\"\"])\n"
   ]
  },
  {
   "cell_type": "code",
   "execution_count": null,
   "metadata": {},
   "outputs": [],
   "source": [
    "%python\n",
    "\n",
    "DF = CUST_DF.crosstab(['CUST_YEAR_OF_BIRTH', 'CUST_MARITAL_STATUS'], values = 'YRS_RESIDENCE', aggfunc= oml.DataFrame.sum)\n",
    "z.show(DF)\n"
   ]
  },
  {
   "cell_type": "code",
   "execution_count": null,
   "metadata": {},
   "outputs": [],
   "source": [
    "%python\n",
    "\n",
    "try:\n",
    "    oml.drop(model=\"ANOMALY_DETECTION_MODEL1\")\n",
    "except:\n",
    "    pass\n",
    "\n",
    "odm_settings = {'svms_outlier_rate' : 0.01}\n",
    "\n",
    "svm_mod = oml.svm(\"anomaly_detection\", **odm_settings)\n",
    "svm_mod.fit(CUST_DF, None, model_name = 'ANOMALY_DETECTION_MODEL1', case_id = 'CUST_ID')"
   ]
  },
  {
   "cell_type": "code",
   "execution_count": null,
   "metadata": {},
   "outputs": [],
   "source": [
    "%python\n",
    "\n",
    "try:\n",
    "    oml.drop(model=\"ANOMALY_DETECTION_MODEL1\")\n",
    "except:\n",
    "    pass\n",
    "\n",
    "odm_settings = {'SVMS_OUTLIER_RATE' : '0.01',\n",
    "                'SVMS_REGULARIZER' : 'SVMS_REGULARIZER_L1',\n",
    "                'SVMS_CONV_TOLERANCE': '0.001'\n",
    "                }\n",
    "\n",
    "svm_mod = oml.svm(\"anomaly_detection\", **odm_settings)\n",
    "svm_mod.fit(CUST_DF, None, model_name = 'ANOMALY_DETECTION_MODEL1', case_id = 'CUST_ID')"
   ]
  },
  {
   "cell_type": "markdown",
   "metadata": {},
   "source": [
    "## Predict"
   ]
  },
  {
   "cell_type": "markdown",
   "metadata": {},
   "source": []
  },
  {
   "cell_type": "code",
   "execution_count": null,
   "metadata": {},
   "outputs": [],
   "source": [
    "%python\n",
    "\n",
    "RES_DF = svm_mod.predict(CUST_DF, supplemental_cols = CUST_DF, proba = True)"
   ]
  },
  {
   "cell_type": "code",
   "execution_count": null,
   "metadata": {},
   "outputs": [],
   "source": [
    "%python\n",
    "\n",
    "z.show(RES_DF[RES_DF['PREDICTION']==0][[\"PREDICTION\",\"PROBABILITY\"] + CUST_DF.columns].head())"
   ]
  }
 ],
 "metadata": {
  "language_info": {
   "name": "python"
  },
  "orig_nbformat": 4
 },
 "nbformat": 4,
 "nbformat_minor": 2
}
