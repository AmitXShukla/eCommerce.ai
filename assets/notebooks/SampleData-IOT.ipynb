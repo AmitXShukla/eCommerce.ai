{
 "cells": [
  {
   "cell_type": "markdown",
   "metadata": {},
   "source": [
    "## This notebook is used to generate sample IOT Data\n",
    "please note, lots of actual data is take in real IOT Data devices and is very much real.\n",
    "Only dates are changed tp generate more volume of data."
   ]
  },
  {
   "cell_type": "code",
   "execution_count": 4,
   "metadata": {},
   "outputs": [
    {
     "name": "stdout",
     "output_type": "stream",
     "text": [
      "\u001b[32m\u001b[1m      Status\u001b[22m\u001b[39m `~/.julia/environments/v1.7/Project.toml`\n",
      " \u001b[90m [336ed68f] \u001b[39mCSV v0.10.3\n",
      " \u001b[90m [54eefc05] \u001b[39mCascadia v1.0.1\n",
      " \u001b[90m [324d7699] \u001b[39mCategoricalArrays v0.10.5\n",
      " \u001b[90m [8f4d0f93] \u001b[39mConda v1.7.0\n",
      " \u001b[90m [a93c6f00] \u001b[39mDataFrames v1.3.2\n",
      " \u001b[90m [31c24e10] \u001b[39mDistributions v0.25.53\n",
      " \u001b[90m [e30172f5] \u001b[39mDocumenter v0.27.15\n",
      " \u001b[90m [8f5d6c58] \u001b[39mEzXML v1.1.0\n",
      " \u001b[90m [708ec375] \u001b[39mGumbo v0.8.0\n",
      " \u001b[90m [cd3eb016] \u001b[39mHTTP v0.9.17\n",
      " \u001b[90m [7073ff75] \u001b[39mIJulia v1.23.2\n",
      " \u001b[90m [c601a237] \u001b[39mInteract v0.10.4\n",
      " \u001b[90m [0f8b85d8] \u001b[39mJSON3 v1.9.4\n",
      " \u001b[90m [b9914132] \u001b[39mJSONTables v1.0.3\n",
      " \u001b[90m [4d0d745f] \u001b[39mPDFIO v0.1.13\n",
      " \u001b[90m [c3e4b0f8] \u001b[39mPluto v0.18.4\n",
      " \u001b[90m [2dfb63ee] \u001b[39mPooledArrays v1.4.0\n",
      " \u001b[90m [438e738f] \u001b[39mPyCall v1.93.1\n",
      " \u001b[90m [88034a9c] \u001b[39mStringDistances v0.11.2\n",
      " \u001b[90m [a2db99b7] \u001b[39mTextAnalysis v0.7.3\n",
      " \u001b[90m [05625dda] \u001b[39mWebDriver v0.1.2\n",
      " \u001b[90m [0f1e0344] \u001b[39mWebIO v0.8.17\n",
      " \u001b[90m [fdbf4ff8] \u001b[39mXLSX v0.7.9\n",
      " \u001b[90m [ade2ca70] \u001b[39mDates\n",
      " \u001b[90m [8bb1440f] \u001b[39mDelimitedFiles\n"
     ]
    }
   ],
   "source": [
    "using Pkg\n",
    "Pkg.status()\n",
    "# make sure CSV and Dates packages are imported and if not, run following command\n",
    "# Pkg.add(\"CSV\")\n",
    "# Pkg.add(\"Dates\")"
   ]
  },
  {
   "cell_type": "code",
   "execution_count": 22,
   "metadata": {},
   "outputs": [
    {
     "data": {
      "text/plain": [
       "\"../sampleData/weather.csv\""
      ]
     },
     "execution_count": 22,
     "metadata": {},
     "output_type": "execute_result"
    }
   ],
   "source": [
    "using DataFrames, CSV, Dates, Distributions\n",
    "sampleSize = 365\n",
    "weatherDF = DataFrame(\n",
    "    recordDate = Date(\"2022-01-01\", dateformat\"y-m-d\"):Day(1):(Date(\"2022-01-01\", dateformat\"y-m-d\")+ Day(sampleSize-1)),\n",
    "    cityId = 1:1:sampleSize, \n",
    "    state = rand([\"LA\",\"LA\",\"FL\"], sampleSize),\n",
    "    indoorTemp = rand(64:1:94, sampleSize),\n",
    "    outdoorTemp = rand(54:1:104, sampleSize),\n",
    "    wind = rand(5:1:30, sampleSize),\n",
    "    humidity = rand(30:1:70, sampleSize),\n",
    "    precipitation = rand(0:1:5, sampleSize)\n",
    "    )\n",
    "first(weatherDF[:, [:recordDate, :cityId, :state, :outdoorTemp]], 10)\n",
    "# CSV.write(\"../sampleData/weather.csv\", weatherDF)"
   ]
  },
  {
   "cell_type": "code",
   "execution_count": 5,
   "metadata": {},
   "outputs": [
    {
     "data": {
      "text/html": [
       "<div class=\"data-frame\"><p>43 rows × 3 columns</p><table class=\"data-frame\"><thead><tr><th></th><th>HolidayDate</th><th>Event</th><th>DayOfWeek</th></tr><tr><th></th><th title=\"Dates.Date\">Date</th><th title=\"String\">String</th><th title=\"String15\">String15</th></tr></thead><tbody><tr><th>1</th><td>2022-01-01</td><td>New Year&apos;s Day</td><td>Saturday</td></tr><tr><th>2</th><td>2022-01-17</td><td>Martin Luther King Day</td><td>Monday</td></tr><tr><th>3</th><td>2022-01-24</td><td>Belly Laugh Day</td><td>Monday</td></tr><tr><th>4</th><td>2022-02-02</td><td>Groundhog Day</td><td>Wednesday</td></tr><tr><th>5</th><td>2022-02-12</td><td>Lincoln&apos;s Birthday</td><td>Saturday</td></tr><tr><th>6</th><td>2022-02-14</td><td>Valentine&apos;s Day</td><td>Monday</td></tr><tr><th>7</th><td>2022-02-21</td><td>Presidents Day and Washington&apos;s Birthday</td><td>Monday</td></tr><tr><th>8</th><td>2022-03-01</td><td>Mardi Gras Carnival</td><td>Tuesday</td></tr><tr><th>9</th><td>2022-03-13</td><td>Daylight Saving</td><td>Sunday</td></tr><tr><th>10</th><td>2022-03-17</td><td>St. Patrick&apos;s Day</td><td>Thursday</td></tr><tr><th>11</th><td>2022-04-01</td><td>April Fool&apos;s Day</td><td>Friday</td></tr><tr><th>12</th><td>2022-04-15</td><td>Good Friday</td><td>Friday</td></tr><tr><th>13</th><td>2022-04-17</td><td>Easter</td><td>Sunday</td></tr><tr><th>14</th><td>2022-04-18</td><td>Easter Monday</td><td>Monday</td></tr><tr><th>15</th><td>2022-04-22</td><td>Earth Day</td><td>Friday</td></tr><tr><th>16</th><td>2022-05-05</td><td>Cinco de Mayo</td><td>Thursday</td></tr><tr><th>17</th><td>2022-05-08</td><td>Mother&apos;s Day</td><td>Sunday</td></tr><tr><th>18</th><td>2022-05-21</td><td>Armed Forces Day</td><td>Saturday</td></tr><tr><th>19</th><td>2022-05-30</td><td>Memorial Day</td><td>Monday</td></tr><tr><th>20</th><td>2022-06-05</td><td>Pentecost</td><td>Sunday</td></tr><tr><th>21</th><td>2022-06-06</td><td>Pentecost Monday</td><td>Monday</td></tr><tr><th>22</th><td>2022-06-14</td><td>Flag Day</td><td>Tuesday</td></tr><tr><th>23</th><td>2022-06-19</td><td>Father&apos;s Day</td><td>Sunday</td></tr><tr><th>24</th><td>2022-07-04</td><td>Independence Day</td><td>Monday</td></tr><tr><th>25</th><td>2022-07-24</td><td>Parents&apos; Day</td><td>Sunday</td></tr><tr><th>26</th><td>2022-09-05</td><td>Labor Day</td><td>Monday</td></tr><tr><th>27</th><td>2022-09-11</td><td>Grandparents&apos; Day</td><td>Sunday</td></tr><tr><th>28</th><td>2022-09-11</td><td>Patriot Day or September 11th</td><td>Sunday</td></tr><tr><th>29</th><td>2022-09-16</td><td>Stepfamily Day</td><td>Friday</td></tr><tr><th>30</th><td>2022-09-17</td><td>Citizenship Day</td><td>Saturday</td></tr><tr><th>&vellip;</th><td>&vellip;</td><td>&vellip;</td><td>&vellip;</td></tr></tbody></table></div>"
      ],
      "text/latex": [
       "\\begin{tabular}{r|ccc}\n",
       "\t& HolidayDate & Event & DayOfWeek\\\\\n",
       "\t\\hline\n",
       "\t& Date & String & String15\\\\\n",
       "\t\\hline\n",
       "\t1 & 2022-01-01 & New Year's Day & Saturday \\\\\n",
       "\t2 & 2022-01-17 & Martin Luther King Day & Monday \\\\\n",
       "\t3 & 2022-01-24 & Belly Laugh Day & Monday \\\\\n",
       "\t4 & 2022-02-02 & Groundhog Day & Wednesday \\\\\n",
       "\t5 & 2022-02-12 & Lincoln's Birthday & Saturday \\\\\n",
       "\t6 & 2022-02-14 & Valentine's Day & Monday \\\\\n",
       "\t7 & 2022-02-21 & Presidents Day and Washington's Birthday & Monday \\\\\n",
       "\t8 & 2022-03-01 & Mardi Gras Carnival & Tuesday \\\\\n",
       "\t9 & 2022-03-13 & Daylight Saving & Sunday \\\\\n",
       "\t10 & 2022-03-17 & St. Patrick's Day & Thursday \\\\\n",
       "\t11 & 2022-04-01 & April Fool's Day & Friday \\\\\n",
       "\t12 & 2022-04-15 & Good Friday & Friday \\\\\n",
       "\t13 & 2022-04-17 & Easter & Sunday \\\\\n",
       "\t14 & 2022-04-18 & Easter Monday & Monday \\\\\n",
       "\t15 & 2022-04-22 & Earth Day & Friday \\\\\n",
       "\t16 & 2022-05-05 & Cinco de Mayo & Thursday \\\\\n",
       "\t17 & 2022-05-08 & Mother's Day & Sunday \\\\\n",
       "\t18 & 2022-05-21 & Armed Forces Day & Saturday \\\\\n",
       "\t19 & 2022-05-30 & Memorial Day & Monday \\\\\n",
       "\t20 & 2022-06-05 & Pentecost & Sunday \\\\\n",
       "\t21 & 2022-06-06 & Pentecost Monday & Monday \\\\\n",
       "\t22 & 2022-06-14 & Flag Day & Tuesday \\\\\n",
       "\t23 & 2022-06-19 & Father's Day & Sunday \\\\\n",
       "\t24 & 2022-07-04 & Independence Day & Monday \\\\\n",
       "\t25 & 2022-07-24 & Parents' Day & Sunday \\\\\n",
       "\t26 & 2022-09-05 & Labor Day & Monday \\\\\n",
       "\t27 & 2022-09-11 & Grandparents' Day & Sunday \\\\\n",
       "\t28 & 2022-09-11 & Patriot Day or September 11th & Sunday \\\\\n",
       "\t29 & 2022-09-16 & Stepfamily Day & Friday \\\\\n",
       "\t30 & 2022-09-17 & Citizenship Day & Saturday \\\\\n",
       "\t$\\dots$ & $\\dots$ & $\\dots$ & $\\dots$ \\\\\n",
       "\\end{tabular}\n"
      ],
      "text/plain": [
       "\u001b[1m43×3 DataFrame\u001b[0m\n",
       "\u001b[1m Row \u001b[0m│\u001b[1m HolidayDate \u001b[0m\u001b[1m Event                             \u001b[0m\u001b[1m DayOfWeek \u001b[0m\n",
       "\u001b[1m     \u001b[0m│\u001b[90m Dates.Date  \u001b[0m\u001b[90m String                            \u001b[0m\u001b[90m String15  \u001b[0m\n",
       "─────┼───────────────────────────────────────────────────────────\n",
       "   1 │ 2022-01-01   New Year's Day                     Saturday\n",
       "   2 │ 2022-01-17   Martin Luther King Day             Monday\n",
       "   3 │ 2022-01-24   Belly Laugh Day                    Monday\n",
       "   4 │ 2022-02-02   Groundhog Day                      Wednesday\n",
       "   5 │ 2022-02-12   Lincoln's Birthday                 Saturday\n",
       "   6 │ 2022-02-14   Valentine's Day                    Monday\n",
       "   7 │ 2022-02-21   Presidents Day and Washington's …  Monday\n",
       "   8 │ 2022-03-01   Mardi Gras Carnival                Tuesday\n",
       "   9 │ 2022-03-13   Daylight Saving                    Sunday\n",
       "  10 │ 2022-03-17   St. Patrick's Day                  Thursday\n",
       "  11 │ 2022-04-01   April Fool's Day                   Friday\n",
       "  ⋮  │      ⋮                       ⋮                      ⋮\n",
       "  34 │ 2022-10-17   Boss's Day                         Monday\n",
       "  35 │ 2022-10-31   Halloween                          Monday\n",
       "  36 │ 2022-11-06   Daylight Saving                    Sunday\n",
       "  37 │ 2022-11-11   Veterans' Day                      Friday\n",
       "  38 │ 2022-11-24   Thanksgiving                       Thursday\n",
       "  39 │ 2022-11-25   Black Friday                       Friday\n",
       "  40 │ 2022-11-28   Cyber Monday                       Monday\n",
       "  41 │ 2022-12-07   Pearl Harbor Remembrance Day       Wednesday\n",
       "  42 │ 2022-12-25   Christmas Day                      Sunday\n",
       "  43 │ 2022-12-31   New Year's Eve                     Saturday\n",
       "\u001b[36m                                                  22 rows omitted\u001b[0m"
      ]
     },
     "execution_count": 5,
     "metadata": {},
     "output_type": "execute_result"
    }
   ],
   "source": [
    "using CSV, DataFrames\n",
    "df = DataFrame(CSV.File(\"../sampleData/calendar.csv\"))"
   ]
  },
  {
   "cell_type": "code",
   "execution_count": null,
   "metadata": {},
   "outputs": [],
   "source": []
  }
 ],
 "metadata": {
  "kernelspec": {
   "display_name": "Julia (4 threads) 1.7.0",
   "language": "julia",
   "name": "julia-(4-threads)-1.7"
  },
  "language_info": {
   "file_extension": ".jl",
   "mimetype": "application/julia",
   "name": "julia",
   "version": "1.7.0"
  },
  "orig_nbformat": 4
 },
 "nbformat": 4,
 "nbformat_minor": 2
}
